{
 "cells": [
  {
   "cell_type": "code",
   "execution_count": 71,
   "id": "04b84174",
   "metadata": {},
   "outputs": [
    {
     "name": "stdout",
     "output_type": "stream",
     "text": [
      "data is load in successfull\n"
     ]
    }
   ],
   "source": [
    "import pandas as pd\n",
    "import numpy as np\n",
    "\n",
    "bank_loan_data=pd.read_csv('bank_loan_data.csv')\n",
    "print('data is load in successfull')"
   ]
  },
  {
   "cell_type": "code",
   "execution_count": 72,
   "id": "cda38094",
   "metadata": {},
   "outputs": [
    {
     "name": "stdout",
     "output_type": "stream",
     "text": [
      "<class 'pandas.core.frame.DataFrame'>\n",
      "RangeIndex: 40000 entries, 0 to 39999\n",
      "Data columns (total 9 columns):\n",
      " #   Column            Non-Null Count  Dtype  \n",
      "---  ------            --------------  -----  \n",
      " 0   loan_id           40000 non-null  int64  \n",
      " 1   customer_id       40000 non-null  int64  \n",
      " 2   gender            38417 non-null  object \n",
      " 3   age               38870 non-null  float64\n",
      " 4   income            38836 non-null  float64\n",
      " 5   loan_amount       38716 non-null  float64\n",
      " 6   loan_status       37972 non-null  object \n",
      " 7   credit_history    37938 non-null  float64\n",
      " 8   application_date  40000 non-null  object \n",
      "dtypes: float64(4), int64(2), object(3)\n",
      "memory usage: 2.7+ MB\n"
     ]
    }
   ],
   "source": [
    "bank_loan_data.info()"
   ]
  },
  {
   "cell_type": "code",
   "execution_count": 73,
   "id": "aaa9fa4e",
   "metadata": {},
   "outputs": [
    {
     "data": {
      "text/html": [
       "<div>\n",
       "<style scoped>\n",
       "    .dataframe tbody tr th:only-of-type {\n",
       "        vertical-align: middle;\n",
       "    }\n",
       "\n",
       "    .dataframe tbody tr th {\n",
       "        vertical-align: top;\n",
       "    }\n",
       "\n",
       "    .dataframe thead th {\n",
       "        text-align: right;\n",
       "    }\n",
       "</style>\n",
       "<table border=\"1\" class=\"dataframe\">\n",
       "  <thead>\n",
       "    <tr style=\"text-align: right;\">\n",
       "      <th></th>\n",
       "      <th>loan_id</th>\n",
       "      <th>customer_id</th>\n",
       "      <th>gender</th>\n",
       "      <th>age</th>\n",
       "      <th>income</th>\n",
       "      <th>loan_amount</th>\n",
       "      <th>loan_status</th>\n",
       "      <th>credit_history</th>\n",
       "      <th>application_date</th>\n",
       "    </tr>\n",
       "  </thead>\n",
       "  <tbody>\n",
       "    <tr>\n",
       "      <th>0</th>\n",
       "      <td>1001</td>\n",
       "      <td>5001</td>\n",
       "      <td>M</td>\n",
       "      <td>34.0</td>\n",
       "      <td>100000.0</td>\n",
       "      <td>80000.0</td>\n",
       "      <td>Rejected</td>\n",
       "      <td>1.0</td>\n",
       "      <td>2020-01-01 00:00:00.000000000</td>\n",
       "    </tr>\n",
       "    <tr>\n",
       "      <th>1</th>\n",
       "      <td>1002</td>\n",
       "      <td>5002</td>\n",
       "      <td>F</td>\n",
       "      <td>25.0</td>\n",
       "      <td>30000.0</td>\n",
       "      <td>180000.0</td>\n",
       "      <td>Rejected</td>\n",
       "      <td>1.0</td>\n",
       "      <td>2020-01-01 00:39:25.259131478</td>\n",
       "    </tr>\n",
       "    <tr>\n",
       "      <th>2</th>\n",
       "      <td>1003</td>\n",
       "      <td>5003</td>\n",
       "      <td>F</td>\n",
       "      <td>26.0</td>\n",
       "      <td>115000.0</td>\n",
       "      <td>200000.0</td>\n",
       "      <td>Approved</td>\n",
       "      <td>1.0</td>\n",
       "      <td>2020-01-01 01:18:50.518262956</td>\n",
       "    </tr>\n",
       "    <tr>\n",
       "      <th>3</th>\n",
       "      <td>1004</td>\n",
       "      <td>5004</td>\n",
       "      <td>F</td>\n",
       "      <td>29.0</td>\n",
       "      <td>105000.0</td>\n",
       "      <td>180000.0</td>\n",
       "      <td>Rejected</td>\n",
       "      <td>1.0</td>\n",
       "      <td>2020-01-01 01:58:15.777394434</td>\n",
       "    </tr>\n",
       "    <tr>\n",
       "      <th>4</th>\n",
       "      <td>1005</td>\n",
       "      <td>5005</td>\n",
       "      <td>M</td>\n",
       "      <td>30.0</td>\n",
       "      <td>110000.0</td>\n",
       "      <td>180000.0</td>\n",
       "      <td>Rejected</td>\n",
       "      <td>1.0</td>\n",
       "      <td>2020-01-01 02:37:41.036525913</td>\n",
       "    </tr>\n",
       "  </tbody>\n",
       "</table>\n",
       "</div>"
      ],
      "text/plain": [
       "   loan_id  customer_id gender   age    income  loan_amount loan_status  \\\n",
       "0     1001         5001      M  34.0  100000.0      80000.0    Rejected   \n",
       "1     1002         5002      F  25.0   30000.0     180000.0    Rejected   \n",
       "2     1003         5003      F  26.0  115000.0     200000.0    Approved   \n",
       "3     1004         5004      F  29.0  105000.0     180000.0    Rejected   \n",
       "4     1005         5005      M  30.0  110000.0     180000.0    Rejected   \n",
       "\n",
       "   credit_history               application_date  \n",
       "0             1.0  2020-01-01 00:00:00.000000000  \n",
       "1             1.0  2020-01-01 00:39:25.259131478  \n",
       "2             1.0  2020-01-01 01:18:50.518262956  \n",
       "3             1.0  2020-01-01 01:58:15.777394434  \n",
       "4             1.0  2020-01-01 02:37:41.036525913  "
      ]
     },
     "execution_count": 73,
     "metadata": {},
     "output_type": "execute_result"
    }
   ],
   "source": [
    "bank_loan_data.head()"
   ]
  },
  {
   "cell_type": "code",
   "execution_count": 74,
   "id": "5339b141",
   "metadata": {},
   "outputs": [
    {
     "data": {
      "text/plain": [
       "loan_id             40000\n",
       "customer_id         40000\n",
       "gender                  2\n",
       "age                    44\n",
       "income                 20\n",
       "loan_amount            25\n",
       "loan_status             2\n",
       "credit_history          2\n",
       "application_date    40000\n",
       "dtype: int64"
      ]
     },
     "execution_count": 74,
     "metadata": {},
     "output_type": "execute_result"
    }
   ],
   "source": [
    "bank_loan_data.nunique()"
   ]
  },
  {
   "cell_type": "code",
   "execution_count": 75,
   "id": "957b953f",
   "metadata": {},
   "outputs": [
    {
     "data": {
      "text/plain": [
       "loan_id                0\n",
       "customer_id            0\n",
       "gender              1583\n",
       "age                 1130\n",
       "income              1164\n",
       "loan_amount         1284\n",
       "loan_status         2028\n",
       "credit_history      2062\n",
       "application_date       0\n",
       "dtype: int64"
      ]
     },
     "execution_count": 75,
     "metadata": {},
     "output_type": "execute_result"
    }
   ],
   "source": [
    "bank_loan_data.isnull().sum()"
   ]
  },
  {
   "cell_type": "code",
   "execution_count": 76,
   "id": "1174a949",
   "metadata": {},
   "outputs": [],
   "source": [
    "bank_loan_data=bank_loan_data.fillna({'age':21, 'gender':'unknown','income':25000,'loan_amount':0,'loan_status':'pending','credit_history':-1})"
   ]
  },
  {
   "cell_type": "code",
   "execution_count": 77,
   "id": "56976f17",
   "metadata": {},
   "outputs": [
    {
     "data": {
      "text/plain": [
       "loan_id             0\n",
       "customer_id         0\n",
       "gender              0\n",
       "age                 0\n",
       "income              0\n",
       "loan_amount         0\n",
       "loan_status         0\n",
       "credit_history      0\n",
       "application_date    0\n",
       "dtype: int64"
      ]
     },
     "execution_count": 77,
     "metadata": {},
     "output_type": "execute_result"
    }
   ],
   "source": [
    "bank_loan_data.isnull().sum()"
   ]
  },
  {
   "cell_type": "code",
   "execution_count": 78,
   "id": "fb712fdf",
   "metadata": {},
   "outputs": [],
   "source": [
    "bank_loan_data['age']=bank_loan_data['age'].astype('int64')"
   ]
  },
  {
   "cell_type": "code",
   "execution_count": 79,
   "id": "6d5fddaf",
   "metadata": {},
   "outputs": [],
   "source": [
    "bank_loan_data['credit_history']=bank_loan_data['credit_history'].astype('int64')"
   ]
  },
  {
   "cell_type": "code",
   "execution_count": 80,
   "id": "34c3db37",
   "metadata": {},
   "outputs": [
    {
     "name": "stdout",
     "output_type": "stream",
     "text": [
      "<class 'pandas.core.frame.DataFrame'>\n",
      "RangeIndex: 40000 entries, 0 to 39999\n",
      "Data columns (total 9 columns):\n",
      " #   Column            Non-Null Count  Dtype  \n",
      "---  ------            --------------  -----  \n",
      " 0   loan_id           40000 non-null  int64  \n",
      " 1   customer_id       40000 non-null  int64  \n",
      " 2   gender            40000 non-null  object \n",
      " 3   age               40000 non-null  int64  \n",
      " 4   income            40000 non-null  float64\n",
      " 5   loan_amount       40000 non-null  float64\n",
      " 6   loan_status       40000 non-null  object \n",
      " 7   credit_history    40000 non-null  int64  \n",
      " 8   application_date  40000 non-null  object \n",
      "dtypes: float64(2), int64(4), object(3)\n",
      "memory usage: 2.7+ MB\n"
     ]
    }
   ],
   "source": [
    "bank_loan_data.info()"
   ]
  },
  {
   "cell_type": "code",
   "execution_count": 81,
   "id": "984adc0b",
   "metadata": {},
   "outputs": [
    {
     "data": {
      "text/plain": [
       "loan_id             40000\n",
       "customer_id         40000\n",
       "gender                  3\n",
       "age                    44\n",
       "income                 20\n",
       "loan_amount            26\n",
       "loan_status             3\n",
       "credit_history          3\n",
       "application_date    40000\n",
       "dtype: int64"
      ]
     },
     "execution_count": 81,
     "metadata": {},
     "output_type": "execute_result"
    }
   ],
   "source": [
    "bank_loan_data.nunique()"
   ]
  },
  {
   "cell_type": "code",
   "execution_count": 82,
   "id": "cf9eb692",
   "metadata": {},
   "outputs": [
    {
     "name": "stdout",
     "output_type": "stream",
     "text": [
      "successfull save the data\n"
     ]
    }
   ],
   "source": [
    "bank_loan_data.to_csv('bank_loan_data_clean_python.csv', index=False)\n",
    "print('successfull save the data')"
   ]
  }
 ],
 "metadata": {
  "kernelspec": {
   "display_name": "Bank_loan_data",
   "language": "python",
   "name": "python3"
  },
  "language_info": {
   "codemirror_mode": {
    "name": "ipython",
    "version": 3
   },
   "file_extension": ".py",
   "mimetype": "text/x-python",
   "name": "python",
   "nbconvert_exporter": "python",
   "pygments_lexer": "ipython3",
   "version": "3.13.6"
  }
 },
 "nbformat": 4,
 "nbformat_minor": 5
}
